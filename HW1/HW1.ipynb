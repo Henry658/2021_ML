{
 "cells": [
  {
   "cell_type": "code",
   "execution_count": 1,
   "id": "12440058",
   "metadata": {},
   "outputs": [
    {
     "name": "stdout",
     "output_type": "stream",
     "text": [
      " Volume in drive C is Windows\n",
      " Volume Serial Number is 342D-18C2\n",
      "\n",
      " Directory of C:\\Users\\henry\\Desktop\\HW1\n",
      "\n",
      "09/26/2021  05:03 PM    <DIR>          .\n",
      "09/26/2021  05:03 PM    <DIR>          ..\n",
      "09/26/2021  01:50 PM               738 .ipynb\n",
      "09/26/2021  01:59 PM    <DIR>          .ipynb_checkpoints\n",
      "09/26/2021  05:03 PM            12,580 HW1.ipynb\n",
      "09/26/2021  01:50 PM               860 testfile.txt\n",
      "               3 File(s)         14,178 bytes\n",
      "               3 Dir(s)  363,771,232,256 bytes free\n"
     ]
    }
   ],
   "source": [
    "import os\n",
    "%ls"
   ]
  },
  {
   "cell_type": "code",
   "execution_count": 2,
   "id": "be917380",
   "metadata": {},
   "outputs": [],
   "source": [
    "with open(\"testfile.txt\",\"r\") as F:\n",
    "    inputdata = F.readlines()\n",
    "#print(inputdata)\n",
    "\n",
    "def string2matrix(input):\n",
    "    matrix = []\n",
    "    for i in range(len(input)):\n",
    "        row = input[i].split(\",\")\n",
    "        for j in range(len(row)):\n",
    "            row[j] = float(row[j])\n",
    "        matrix.append(row)\n",
    "    \n",
    "string2matrix(inputdata)\n"
   ]
  },
  {
   "cell_type": "code",
   "execution_count": 54,
   "id": "0216a2ad",
   "metadata": {},
   "outputs": [],
   "source": [
    "class matrix(): \n",
    "    def __init__(self,input):\n",
    "        self.data = matrix.init_data(input)\n",
    "        self.shape = matrix.shape(self)\n",
    "        self.rows = self.shape[0]\n",
    "        self.columns = self.shape[1]\n",
    "        \n",
    "    def init_data(input):\n",
    "        print(type(input))\n",
    "        if isinstance(input[0], str):\n",
    "            matrix = []\n",
    "            for i in range(len(input)):\n",
    "                row = input[i].split(\",\")\n",
    "                for j in range(len(row)):\n",
    "                    row[j] = float(row[j])\n",
    "                matrix.append(row)\n",
    "            return matrix\n",
    "        else:\n",
    "            matrix = input\n",
    "            return matrix\n",
    "    \n",
    "    def shape(self):\n",
    "        rows = len(self.data)\n",
    "        columns = len(self.data[0])\n",
    "        return [rows,columns]\n",
    "    \n",
    "    def issquare(self):\n",
    "        return self.rows == self.columns\n",
    "    \n",
    "    def det(self):\n",
    "        if(not issquare(self)):\n",
    "            raise ValueError('matrix is not square')\n",
    "        else:\n",
    "            pass\n",
    "    \n",
    "    def trace(self):\n",
    "        if(not issquare(self)):\n",
    "            raise ValueError('matrix is not square')\n",
    "        else:\n",
    "            pass\n",
    "    \n",
    "    def gssjrdn(self):\n",
    "        pass\n",
    "    \n",
    "    def rank(self):\n",
    "        pass\n",
    "    \n",
    "    def inverse(self):\n",
    "        pass\n",
    "    \n",
    "    def T(self):\n",
    "        transpose = []\n",
    "        for i in range(self.columns):\n",
    "            row = []\n",
    "            for j in range(self.rows):\n",
    "                row.append(self.data[j][i])\n",
    "            transpose.append(row)\n",
    "        return matrix(transpose)\n",
    "    \n",
    "    def __neg__(self):\n",
    "        C = []\n",
    "        for i in range(self.rows):\n",
    "            row = []\n",
    "            for j in range(self.columns):\n",
    "                element = -1*self.data[i][j]\n",
    "                row.append(element)\n",
    "            C.append(row)\n",
    "        return matrix(C)        \n",
    "    \n",
    "    def __add__(self,other):\n",
    "        if self.shape != other.shape:\n",
    "            raise ValueError(f'A and B is not match, A is {self.shape}, B is {other.shape}. ')\n",
    "        else:\n",
    "            C = []\n",
    "            for i in range(self.rows):\n",
    "                row = []\n",
    "                for j in range(other.columns):\n",
    "                    element = self.data[i][j] + other.data[i][j]\n",
    "                    row.append(element)\n",
    "                C.append(row)\n",
    "            return matrix(C)\n",
    "        \n",
    "    def __sub__(self,other):\n",
    "        if self.shape != other.shape:\n",
    "            raise ValueError(f'A and B is not match, A is {self.shape}, B is {other.shape}. ')\n",
    "        else:\n",
    "            C = []\n",
    "            for i in range(self.rows):\n",
    "                row = []\n",
    "                for j in range(other.columns):\n",
    "                    element = self.data[i][j] - other.data[i][j]\n",
    "                    row.append(element)\n",
    "                C.append(row)\n",
    "            return matrix(C)\n",
    "    \n",
    "    \n",
    "    def __mul__(self,other):\n",
    "        if self.columns != other.rows:\n",
    "            raise ValueError(f'A and B is not match, A is {self.shape}, B is {other.shape}. ')\n",
    "        else:\n",
    "            C = []\n",
    "            for i in range(self.rows):\n",
    "                row = []\n",
    "                for j in range(other.columns):\n",
    "                    element = 0\n",
    "                    print(i,j)\n",
    "                    for k in range(self.columns): # or B.rows\n",
    "                        element += self.data[i][k] * other.data[k][j]\n",
    "                    row.append(element)\n",
    "                C.append(row)\n",
    "            return matrix(C)\n",
    "    "
   ]
  },
  {
   "cell_type": "code",
   "execution_count": 4,
   "id": "becba50d",
   "metadata": {},
   "outputs": [],
   "source": [
    "# C = dot(A,B), (r,c) = (r,k) * (k,c)\n",
    "def dot(A,B):\n",
    "    if A.columns != B.rows:\n",
    "        raise ValueError(f'A and B is not match, A is {A.shape}, B is {B.shape}. ')\n",
    "    else:\n",
    "        C = []\n",
    "        for i in range(A.rows):\n",
    "            row = []\n",
    "            for j in range(B.columns):\n",
    "                element = 0\n",
    "                for k in range(A.columns): # or B.rows\n",
    "                    element += A.data[i][k] * B.data[k][j]\n",
    "                row.append(element)\n",
    "            C.append(row)\n",
    "        return matrix(C)\n",
    "    "
   ]
  },
  {
   "cell_type": "code",
   "execution_count": 55,
   "id": "214fcc8a",
   "metadata": {},
   "outputs": [
    {
     "name": "stdout",
     "output_type": "stream",
     "text": [
      "<class 'list'>\n",
      "<class 'list'>\n",
      "[2, 3]\n",
      "[[1, 2, 3], [4, 5, 6]]\n",
      "<class 'list'>\n",
      "<class '__main__.matrix'>\n"
     ]
    },
    {
     "ename": "TypeError",
     "evalue": "'matrix' object is not subscriptable",
     "output_type": "error",
     "traceback": [
      "\u001b[1;31m---------------------------------------------------------------------------\u001b[0m",
      "\u001b[1;31mTypeError\u001b[0m                                 Traceback (most recent call last)",
      "\u001b[1;32m~\\AppData\\Local\\Temp/ipykernel_32064/3431525504.py\u001b[0m in \u001b[0;36m<module>\u001b[1;34m\u001b[0m\n\u001b[0;32m      4\u001b[0m \u001b[0mprint\u001b[0m\u001b[1;33m(\u001b[0m\u001b[0mA\u001b[0m\u001b[1;33m.\u001b[0m\u001b[0mshape\u001b[0m\u001b[1;33m)\u001b[0m\u001b[1;33m\u001b[0m\u001b[1;33m\u001b[0m\u001b[0m\n\u001b[0;32m      5\u001b[0m \u001b[0mprint\u001b[0m\u001b[1;33m(\u001b[0m\u001b[0mA\u001b[0m\u001b[1;33m.\u001b[0m\u001b[0mdata\u001b[0m\u001b[1;33m)\u001b[0m\u001b[1;33m\u001b[0m\u001b[1;33m\u001b[0m\u001b[0m\n\u001b[1;32m----> 6\u001b[1;33m \u001b[0mAt\u001b[0m \u001b[1;33m=\u001b[0m \u001b[0mmatrix\u001b[0m\u001b[1;33m(\u001b[0m\u001b[0mA\u001b[0m\u001b[1;33m.\u001b[0m\u001b[0mT\u001b[0m\u001b[1;33m(\u001b[0m\u001b[1;33m)\u001b[0m\u001b[1;33m)\u001b[0m\u001b[1;33m\u001b[0m\u001b[1;33m\u001b[0m\u001b[0m\n\u001b[0m\u001b[0;32m      7\u001b[0m \u001b[0mprint\u001b[0m\u001b[1;33m(\u001b[0m\u001b[0mAt\u001b[0m\u001b[1;33m.\u001b[0m\u001b[0mshape\u001b[0m\u001b[1;33m)\u001b[0m\u001b[1;33m\u001b[0m\u001b[1;33m\u001b[0m\u001b[0m\n\u001b[0;32m      8\u001b[0m \u001b[0mprint\u001b[0m\u001b[1;33m(\u001b[0m\u001b[0mAt\u001b[0m\u001b[1;33m.\u001b[0m\u001b[0mdata\u001b[0m\u001b[1;33m)\u001b[0m\u001b[1;33m\u001b[0m\u001b[1;33m\u001b[0m\u001b[0m\n",
      "\u001b[1;32m~\\AppData\\Local\\Temp/ipykernel_32064/3040614209.py\u001b[0m in \u001b[0;36m__init__\u001b[1;34m(self, input)\u001b[0m\n\u001b[0;32m      1\u001b[0m \u001b[1;32mclass\u001b[0m \u001b[0mmatrix\u001b[0m\u001b[1;33m(\u001b[0m\u001b[1;33m)\u001b[0m\u001b[1;33m:\u001b[0m\u001b[1;33m\u001b[0m\u001b[1;33m\u001b[0m\u001b[0m\n\u001b[0;32m      2\u001b[0m     \u001b[1;32mdef\u001b[0m \u001b[0m__init__\u001b[0m\u001b[1;33m(\u001b[0m\u001b[0mself\u001b[0m\u001b[1;33m,\u001b[0m\u001b[0minput\u001b[0m\u001b[1;33m)\u001b[0m\u001b[1;33m:\u001b[0m\u001b[1;33m\u001b[0m\u001b[1;33m\u001b[0m\u001b[0m\n\u001b[1;32m----> 3\u001b[1;33m         \u001b[0mself\u001b[0m\u001b[1;33m.\u001b[0m\u001b[0mdata\u001b[0m \u001b[1;33m=\u001b[0m \u001b[0mmatrix\u001b[0m\u001b[1;33m.\u001b[0m\u001b[0minit_data\u001b[0m\u001b[1;33m(\u001b[0m\u001b[0minput\u001b[0m\u001b[1;33m)\u001b[0m\u001b[1;33m\u001b[0m\u001b[1;33m\u001b[0m\u001b[0m\n\u001b[0m\u001b[0;32m      4\u001b[0m         \u001b[0mself\u001b[0m\u001b[1;33m.\u001b[0m\u001b[0mshape\u001b[0m \u001b[1;33m=\u001b[0m \u001b[0mmatrix\u001b[0m\u001b[1;33m.\u001b[0m\u001b[0mshape\u001b[0m\u001b[1;33m(\u001b[0m\u001b[0mself\u001b[0m\u001b[1;33m)\u001b[0m\u001b[1;33m\u001b[0m\u001b[1;33m\u001b[0m\u001b[0m\n\u001b[0;32m      5\u001b[0m         \u001b[0mself\u001b[0m\u001b[1;33m.\u001b[0m\u001b[0mrows\u001b[0m \u001b[1;33m=\u001b[0m \u001b[0mself\u001b[0m\u001b[1;33m.\u001b[0m\u001b[0mshape\u001b[0m\u001b[1;33m[\u001b[0m\u001b[1;36m0\u001b[0m\u001b[1;33m]\u001b[0m\u001b[1;33m\u001b[0m\u001b[1;33m\u001b[0m\u001b[0m\n",
      "\u001b[1;32m~\\AppData\\Local\\Temp/ipykernel_32064/3040614209.py\u001b[0m in \u001b[0;36minit_data\u001b[1;34m(input)\u001b[0m\n\u001b[0;32m      8\u001b[0m     \u001b[1;32mdef\u001b[0m \u001b[0minit_data\u001b[0m\u001b[1;33m(\u001b[0m\u001b[0minput\u001b[0m\u001b[1;33m)\u001b[0m\u001b[1;33m:\u001b[0m\u001b[1;33m\u001b[0m\u001b[1;33m\u001b[0m\u001b[0m\n\u001b[0;32m      9\u001b[0m         \u001b[0mprint\u001b[0m\u001b[1;33m(\u001b[0m\u001b[0mtype\u001b[0m\u001b[1;33m(\u001b[0m\u001b[0minput\u001b[0m\u001b[1;33m)\u001b[0m\u001b[1;33m)\u001b[0m\u001b[1;33m\u001b[0m\u001b[1;33m\u001b[0m\u001b[0m\n\u001b[1;32m---> 10\u001b[1;33m         \u001b[1;32mif\u001b[0m \u001b[0misinstance\u001b[0m\u001b[1;33m(\u001b[0m\u001b[0minput\u001b[0m\u001b[1;33m[\u001b[0m\u001b[1;36m0\u001b[0m\u001b[1;33m]\u001b[0m\u001b[1;33m,\u001b[0m \u001b[0mstr\u001b[0m\u001b[1;33m)\u001b[0m\u001b[1;33m:\u001b[0m\u001b[1;33m\u001b[0m\u001b[1;33m\u001b[0m\u001b[0m\n\u001b[0m\u001b[0;32m     11\u001b[0m             \u001b[0mmatrix\u001b[0m \u001b[1;33m=\u001b[0m \u001b[1;33m[\u001b[0m\u001b[1;33m]\u001b[0m\u001b[1;33m\u001b[0m\u001b[1;33m\u001b[0m\u001b[0m\n\u001b[0;32m     12\u001b[0m             \u001b[1;32mfor\u001b[0m \u001b[0mi\u001b[0m \u001b[1;32min\u001b[0m \u001b[0mrange\u001b[0m\u001b[1;33m(\u001b[0m\u001b[0mlen\u001b[0m\u001b[1;33m(\u001b[0m\u001b[0minput\u001b[0m\u001b[1;33m)\u001b[0m\u001b[1;33m)\u001b[0m\u001b[1;33m:\u001b[0m\u001b[1;33m\u001b[0m\u001b[1;33m\u001b[0m\u001b[0m\n",
      "\u001b[1;31mTypeError\u001b[0m: 'matrix' object is not subscriptable"
     ]
    }
   ],
   "source": [
    "A = matrix([[1,2,3],[4,5,6]])\n",
    "B = matrix([[1,1],[1,1]])\n",
    "\n",
    "print(A.shape)\n",
    "print(A.data)\n",
    "At = matrix(A.T())\n",
    "print(At.shape)\n",
    "print(At.data)\n",
    "print((-A).data)"
   ]
  },
  {
   "cell_type": "code",
   "execution_count": 158,
   "id": "b5d9cd79",
   "metadata": {},
   "outputs": [
    {
     "ename": "AttributeError",
     "evalue": "'list' object has no attribute 'add'",
     "output_type": "error",
     "traceback": [
      "\u001b[1;31m---------------------------------------------------------------------------\u001b[0m",
      "\u001b[1;31mAttributeError\u001b[0m                            Traceback (most recent call last)",
      "\u001b[1;32m~\\AppData\\Local\\Temp/ipykernel_19208/2816946635.py\u001b[0m in \u001b[0;36m<module>\u001b[1;34m\u001b[0m\n\u001b[0;32m      1\u001b[0m \u001b[0mA\u001b[0m \u001b[1;33m=\u001b[0m \u001b[1;33m[\u001b[0m\u001b[1;36m1\u001b[0m\u001b[1;33m,\u001b[0m\u001b[1;36m2\u001b[0m\u001b[1;33m,\u001b[0m\u001b[1;36m3\u001b[0m\u001b[1;33m]\u001b[0m\u001b[1;33m\u001b[0m\u001b[1;33m\u001b[0m\u001b[0m\n\u001b[0;32m      2\u001b[0m \u001b[0mB\u001b[0m \u001b[1;33m=\u001b[0m \u001b[1;33m[\u001b[0m\u001b[1;36m4\u001b[0m\u001b[1;33m,\u001b[0m\u001b[1;36m5\u001b[0m\u001b[1;33m,\u001b[0m\u001b[1;36m6\u001b[0m\u001b[1;33m]\u001b[0m\u001b[1;33m\u001b[0m\u001b[1;33m\u001b[0m\u001b[0m\n\u001b[1;32m----> 3\u001b[1;33m \u001b[0mA\u001b[0m\u001b[1;33m.\u001b[0m\u001b[0madd\u001b[0m\u001b[1;33m(\u001b[0m\u001b[0mB\u001b[0m\u001b[1;33m)\u001b[0m\u001b[1;33m\u001b[0m\u001b[1;33m\u001b[0m\u001b[0m\n\u001b[0m",
      "\u001b[1;31mAttributeError\u001b[0m: 'list' object has no attribute 'add'"
     ]
    }
   ],
   "source": [
    "A = [1,2,3]\n",
    "B = [4,5,6]"
   ]
  }
 ],
 "metadata": {
  "kernelspec": {
   "display_name": "ML",
   "language": "python",
   "name": "ml"
  },
  "language_info": {
   "codemirror_mode": {
    "name": "ipython",
    "version": 3
   },
   "file_extension": ".py",
   "mimetype": "text/x-python",
   "name": "python",
   "nbconvert_exporter": "python",
   "pygments_lexer": "ipython3",
   "version": "3.9.7"
  }
 },
 "nbformat": 4,
 "nbformat_minor": 5
}
